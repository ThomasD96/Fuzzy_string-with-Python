{
 "cells": [
  {
   "cell_type": "code",
   "execution_count": null,
   "metadata": {},
   "outputs": [],
   "source": [
    "# https://www.kaggle.com/caesarlupum/deduping-record-linkage\n",
    "# https://bergvca.github.io/2017/10/14/super-fast-string-matching.html?source=post_page-----84f2bfd0c536----------------------"
   ]
  },
  {
   "cell_type": "code",
   "execution_count": 1,
   "metadata": {},
   "outputs": [
    {
     "name": "stderr",
     "output_type": "stream",
     "text": [
      "C:\\Users\\tdornigg\\AppData\\Local\\Continuum\\anaconda3\\lib\\site-packages\\fuzzywuzzy\\fuzz.py:11: UserWarning: Using slow pure-python SequenceMatcher. Install python-Levenshtein to remove this warning\n",
      "  warnings.warn('Using slow pure-python SequenceMatcher. Install python-Levenshtein to remove this warning')\n"
     ]
    }
   ],
   "source": [
    "from sklearn.feature_extraction.text import TfidfVectorizer\n",
    "from sklearn.metrics.pairwise import cosine_similarity\n",
    "from sklearn.feature_extraction.text import TfidfVectorizer\n",
    "import re\n",
    "import time\n",
    "from ftfy import fix_text\n",
    "from fuzzywuzzy import fuzz\n",
    "from fuzzywuzzy import process\n",
    "import pandas as pd\n",
    "import numpy as np"
   ]
  },
  {
   "cell_type": "code",
   "execution_count": 13,
   "metadata": {},
   "outputs": [],
   "source": [
    "## Data where company-names are unclean\n",
    "## Goal: Match this names with a list of clean company-names\n",
    "data = pd.read_excel('alt_fertig.xlsx')"
   ]
  },
  {
   "cell_type": "code",
   "execution_count": 14,
   "metadata": {},
   "outputs": [
    {
     "data": {
      "text/html": [
       "<div>\n",
       "<style scoped>\n",
       "    .dataframe tbody tr th:only-of-type {\n",
       "        vertical-align: middle;\n",
       "    }\n",
       "\n",
       "    .dataframe tbody tr th {\n",
       "        vertical-align: top;\n",
       "    }\n",
       "\n",
       "    .dataframe thead th {\n",
       "        text-align: right;\n",
       "    }\n",
       "</style>\n",
       "<table border=\"1\" class=\"dataframe\">\n",
       "  <thead>\n",
       "    <tr style=\"text-align: right;\">\n",
       "      <th></th>\n",
       "      <th>Firma</th>\n",
       "      <th>Betrag</th>\n",
       "    </tr>\n",
       "  </thead>\n",
       "  <tbody>\n",
       "    <tr>\n",
       "      <td>0</td>\n",
       "      <td>\"Neue Heimat\" Gemeinnützige   Heizergasse 1   ...</td>\n",
       "      <td>964.82</td>\n",
       "    </tr>\n",
       "    <tr>\n",
       "      <td>1</td>\n",
       "      <td>\"Unser Lagerhaus\" Warenhandels GmbH   Suedring...</td>\n",
       "      <td>3370.52</td>\n",
       "    </tr>\n",
       "    <tr>\n",
       "      <td>2</td>\n",
       "      <td>3 L Gastronomie GmbH   Hoheneggerstrasse 36   ...</td>\n",
       "      <td>1191.66</td>\n",
       "    </tr>\n",
       "    <tr>\n",
       "      <td>3</td>\n",
       "      <td>A &amp; R Mode-Handels GmbH   Amraser-See-Str. 56a...</td>\n",
       "      <td>592.64</td>\n",
       "    </tr>\n",
       "    <tr>\n",
       "      <td>4</td>\n",
       "      <td>A &amp; R Mode-Handels GmbH   Amraser-See-Strasse ...</td>\n",
       "      <td>296.66</td>\n",
       "    </tr>\n",
       "  </tbody>\n",
       "</table>\n",
       "</div>"
      ],
      "text/plain": [
       "                                               Firma   Betrag\n",
       "0  \"Neue Heimat\" Gemeinnützige   Heizergasse 1   ...   964.82\n",
       "1  \"Unser Lagerhaus\" Warenhandels GmbH   Suedring...  3370.52\n",
       "2  3 L Gastronomie GmbH   Hoheneggerstrasse 36   ...  1191.66\n",
       "3  A & R Mode-Handels GmbH   Amraser-See-Str. 56a...   592.64\n",
       "4  A & R Mode-Handels GmbH   Amraser-See-Strasse ...   296.66"
      ]
     },
     "execution_count": 14,
     "metadata": {},
     "output_type": "execute_result"
    }
   ],
   "source": [
    "data.head()"
   ]
  },
  {
   "cell_type": "code",
   "execution_count": 19,
   "metadata": {},
   "outputs": [],
   "source": [
    "## Load in clean company-names\n",
    "clean_org_names = pd.read_excel('companies.xlsx')"
   ]
  },
  {
   "cell_type": "code",
   "execution_count": 20,
   "metadata": {},
   "outputs": [
    {
     "data": {
      "text/html": [
       "<div>\n",
       "<style scoped>\n",
       "    .dataframe tbody tr th:only-of-type {\n",
       "        vertical-align: middle;\n",
       "    }\n",
       "\n",
       "    .dataframe tbody tr th {\n",
       "        vertical-align: top;\n",
       "    }\n",
       "\n",
       "    .dataframe thead th {\n",
       "        text-align: right;\n",
       "    }\n",
       "</style>\n",
       "<table border=\"1\" class=\"dataframe\">\n",
       "  <thead>\n",
       "    <tr style=\"text-align: right;\">\n",
       "      <th></th>\n",
       "      <th>Firma</th>\n",
       "    </tr>\n",
       "  </thead>\n",
       "  <tbody>\n",
       "    <tr>\n",
       "      <td>0</td>\n",
       "      <td>ABC - Arbeit und Bildung</td>\n",
       "    </tr>\n",
       "    <tr>\n",
       "      <td>1</td>\n",
       "      <td>A &amp; R Mode-Handels GmbH</td>\n",
       "    </tr>\n",
       "    <tr>\n",
       "      <td>2</td>\n",
       "      <td>Unser Lagerhaus GmbH</td>\n",
       "    </tr>\n",
       "    <tr>\n",
       "      <td>3</td>\n",
       "      <td>Neue Heimat</td>\n",
       "    </tr>\n",
       "    <tr>\n",
       "      <td>4</td>\n",
       "      <td>A.Zaussinger Bau und Obervisnitz</td>\n",
       "    </tr>\n",
       "    <tr>\n",
       "      <td>5</td>\n",
       "      <td>A. Ö. KH der Barmherzigen Brüder</td>\n",
       "    </tr>\n",
       "    <tr>\n",
       "      <td>6</td>\n",
       "      <td>A. Ö. Krankenhaus des DT. Ordens</td>\n",
       "    </tr>\n",
       "    <tr>\n",
       "      <td>7</td>\n",
       "      <td>3 L Gastronomie GmbH</td>\n",
       "    </tr>\n",
       "    <tr>\n",
       "      <td>8</td>\n",
       "      <td>A.Ö. Krankenhaus der Elisabethinen</td>\n",
       "    </tr>\n",
       "  </tbody>\n",
       "</table>\n",
       "</div>"
      ],
      "text/plain": [
       "                                Firma\n",
       "0            ABC - Arbeit und Bildung\n",
       "1             A & R Mode-Handels GmbH\n",
       "2                Unser Lagerhaus GmbH\n",
       "3                         Neue Heimat\n",
       "4    A.Zaussinger Bau und Obervisnitz\n",
       "5    A. Ö. KH der Barmherzigen Brüder\n",
       "6    A. Ö. Krankenhaus des DT. Ordens\n",
       "7                3 L Gastronomie GmbH\n",
       "8  A.Ö. Krankenhaus der Elisabethinen"
      ]
     },
     "execution_count": 20,
     "metadata": {},
     "output_type": "execute_result"
    }
   ],
   "source": [
    "clean_org_names"
   ]
  },
  {
   "cell_type": "code",
   "execution_count": 15,
   "metadata": {},
   "outputs": [
    {
     "data": {
      "text/plain": [
       "92"
      ]
     },
     "execution_count": 15,
     "metadata": {},
     "output_type": "execute_result"
    }
   ],
   "source": [
    "# Compares, if the first string is similar to the second string\n",
    "# A ratio of  --> 92% (very much similar)\n",
    "fuzz.ratio('A & R Mode-Handels GmbH   Amraser-See-Str. 56a', 'A & R Mode-Handels GmbH   Amraser-See-Strasse')"
   ]
  },
  {
   "cell_type": "code",
   "execution_count": 16,
   "metadata": {},
   "outputs": [],
   "source": [
    "def ngrams(string, n=3):\n",
    "    string = fix_text(string) # fix text\n",
    "    string = string.encode(\"ascii\", errors=\"ignore\").decode() #remove non ascii chars\n",
    "    string = string.lower()\n",
    "    chars_to_remove = [\")\",\"(\",\".\",\"|\",\"[\",\"]\",\"{\",\"}\",\"'\"]\n",
    "    rx = '[' + re.escape(''.join(chars_to_remove)) + ']'\n",
    "    string = re.sub(rx, '', string)\n",
    "    string = string.replace('&', 'and')\n",
    "    string = string.replace(',', ' ')\n",
    "    string = string.replace('-', ' ')\n",
    "    string = string.title() # normalise case - capital at start of each word\n",
    "    string = re.sub(' +',' ',string).strip() # get rid of multiple spaces and replace with a single\n",
    "    string = ' '+ string +' ' # pad names for ngrams...\n",
    "    string = re.sub(r'[,-./]|\\sBD',r'', string)\n",
    "    ngrams = zip(*[string[i:] for i in range(n)])\n",
    "    return [''.join(ngram) for ngram in ngrams]"
   ]
  },
  {
   "cell_type": "code",
   "execution_count": 17,
   "metadata": {},
   "outputs": [
    {
     "name": "stdout",
     "output_type": "stream",
     "text": [
      "All 3-grams in \"McDonalds\":\n"
     ]
    },
    {
     "data": {
      "text/plain": [
       "[' Mc', 'Mcd', 'cdo', 'don', 'ona', 'nal', 'ald', 'lds', 'ds ']"
      ]
     },
     "execution_count": 17,
     "metadata": {},
     "output_type": "execute_result"
    }
   ],
   "source": [
    "print('All 3-grams in \"McDonalds\":')\n",
    "ngrams('McDonalds')"
   ]
  },
  {
   "cell_type": "code",
   "execution_count": 18,
   "metadata": {},
   "outputs": [],
   "source": [
    "# The code to generate the matrix of TF-IDF values for each is shown below.\n",
    "company_names = data['Firma'].unique()\n",
    "vectorizer = TfidfVectorizer(min_df=1, analyzer=ngrams)\n",
    "tf_idf_matrix = vectorizer.fit_transform(company_names)"
   ]
  },
  {
   "cell_type": "code",
   "execution_count": 22,
   "metadata": {},
   "outputs": [
    {
     "name": "stdout",
     "output_type": "stream",
     "text": [
      "Vecorizing the data - this could take a few minutes for large datasets...\n",
      "Vecorizing completed...\n"
     ]
    }
   ],
   "source": [
    "org_name_clean = clean_org_names['Firma'].unique()\n",
    "\n",
    "print('Vecorizing the data - this could take a few minutes for large datasets...')\n",
    "vectorizer = TfidfVectorizer(min_df=1, analyzer=ngrams, lowercase=False)\n",
    "tfidf = vectorizer.fit_transform(org_name_clean)\n",
    "print('Vecorizing completed...')\n",
    "\n",
    "from sklearn.neighbors import NearestNeighbors\n",
    "nbrs = NearestNeighbors(n_neighbors=1, n_jobs=-1).fit(tfidf)\n",
    "\n",
    "org_column = 'Firma' #column to match against in the messy data\n",
    "unique_org = set(data[org_column].values)"
   ]
  },
  {
   "cell_type": "code",
   "execution_count": 23,
   "metadata": {},
   "outputs": [
    {
     "name": "stdout",
     "output_type": "stream",
     "text": [
      "getting nearest n...\n",
      "COMPLETED IN: 0.1335599422454834\n",
      "finding matches...\n",
      "Building data frame...\n",
      "Done\n"
     ]
    }
   ],
   "source": [
    "###matching query:\n",
    "def getNearestN(query):\n",
    "    queryTFIDF_ = vectorizer.transform(query)\n",
    "    distances, indices = nbrs.kneighbors(queryTFIDF_)\n",
    "    return distances, indices\n",
    "\n",
    "t1 = time.time()\n",
    "print('getting nearest n...')\n",
    "distances, indices = getNearestN(unique_org)\n",
    "t = time.time()-t1\n",
    "print(\"COMPLETED IN:\", t)\n",
    "\n",
    "unique_org = list(unique_org) #need to convert back to a list\n",
    "print('finding matches...')\n",
    "matches = []\n",
    "for i,j in enumerate(indices):\n",
    "    temp = [round(distances[i][0],2), clean_org_names.values[j][0][0],unique_org[i]]\n",
    "    matches.append(temp)\n",
    "\n",
    "print('Building data frame...')  \n",
    "matches = pd.DataFrame(matches, columns=['Match confidence (lower is better)','Matched name','Origional name'])\n",
    "print('Done') "
   ]
  },
  {
   "cell_type": "code",
   "execution_count": 24,
   "metadata": {},
   "outputs": [
    {
     "data": {
      "text/html": [
       "<div>\n",
       "<style scoped>\n",
       "    .dataframe tbody tr th:only-of-type {\n",
       "        vertical-align: middle;\n",
       "    }\n",
       "\n",
       "    .dataframe tbody tr th {\n",
       "        vertical-align: top;\n",
       "    }\n",
       "\n",
       "    .dataframe thead th {\n",
       "        text-align: right;\n",
       "    }\n",
       "</style>\n",
       "<table border=\"1\" class=\"dataframe\">\n",
       "  <thead>\n",
       "    <tr style=\"text-align: right;\">\n",
       "      <th></th>\n",
       "      <th>Match confidence (lower is better)</th>\n",
       "      <th>Matched name</th>\n",
       "      <th>Origional name</th>\n",
       "    </tr>\n",
       "  </thead>\n",
       "  <tbody>\n",
       "    <tr>\n",
       "      <td>0</td>\n",
       "      <td>0.71</td>\n",
       "      <td>Unser Lagerhaus GmbH</td>\n",
       "      <td>\"Unser Lagerhaus\" Warenhandels GmbH   Suedring...</td>\n",
       "    </tr>\n",
       "    <tr>\n",
       "      <td>1</td>\n",
       "      <td>0.38</td>\n",
       "      <td>A. Ö. KH der Barmherzigen Brüder</td>\n",
       "      <td>A. Ö. KH DER BARMHERZIGEN BRÜDER   SPITALGASSE...</td>\n",
       "    </tr>\n",
       "    <tr>\n",
       "      <td>2</td>\n",
       "      <td>0.33</td>\n",
       "      <td>A.Zaussinger Bau und Obervisnitz</td>\n",
       "      <td>A.Zaussinger Bau- und   Obervisnitz 8   A-4224...</td>\n",
       "    </tr>\n",
       "    <tr>\n",
       "      <td>3</td>\n",
       "      <td>0.39</td>\n",
       "      <td>3 L Gastronomie GmbH</td>\n",
       "      <td>3 L Gastronomie GmbH   Hoheneggerstrasse 36   ...</td>\n",
       "    </tr>\n",
       "    <tr>\n",
       "      <td>4</td>\n",
       "      <td>0.32</td>\n",
       "      <td>A &amp; R Mode-Handels GmbH</td>\n",
       "      <td>A &amp; R Mode-Handels GmbH   Amraser-See-Str. 56a...</td>\n",
       "    </tr>\n",
       "    <tr>\n",
       "      <td>5</td>\n",
       "      <td>0.32</td>\n",
       "      <td>A &amp; R Mode-Handels GmbH</td>\n",
       "      <td>A &amp; R Mode-Handels GmbH   Amraser-See-Strasse ...</td>\n",
       "    </tr>\n",
       "    <tr>\n",
       "      <td>6</td>\n",
       "      <td>0.69</td>\n",
       "      <td>ABC - Arbeit und Bildung</td>\n",
       "      <td>ABC - Arbeit u. Bildung   Neunkirchner Strasse...</td>\n",
       "    </tr>\n",
       "    <tr>\n",
       "      <td>7</td>\n",
       "      <td>0.49</td>\n",
       "      <td>A. Ö. Krankenhaus des DT. Ordens</td>\n",
       "      <td>A. Ö. KRANKENHAUS D. DT. ORDENS   ST. VEITER S...</td>\n",
       "    </tr>\n",
       "    <tr>\n",
       "      <td>8</td>\n",
       "      <td>0.55</td>\n",
       "      <td>Neue Heimat</td>\n",
       "      <td>\"Neue Heimat\" Gemeinnützige   Heizergasse 1   ...</td>\n",
       "    </tr>\n",
       "    <tr>\n",
       "      <td>9</td>\n",
       "      <td>0.32</td>\n",
       "      <td>A.Ö. Krankenhaus der Elisabethinen</td>\n",
       "      <td>A.Ö. KRANKENHAUS DER ELISABETHINEN   VÖLKERMAR...</td>\n",
       "    </tr>\n",
       "  </tbody>\n",
       "</table>\n",
       "</div>"
      ],
      "text/plain": [
       "   Match confidence (lower is better)                        Matched name  \\\n",
       "0                                0.71                Unser Lagerhaus GmbH   \n",
       "1                                0.38    A. Ö. KH der Barmherzigen Brüder   \n",
       "2                                0.33    A.Zaussinger Bau und Obervisnitz   \n",
       "3                                0.39                3 L Gastronomie GmbH   \n",
       "4                                0.32             A & R Mode-Handels GmbH   \n",
       "5                                0.32             A & R Mode-Handels GmbH   \n",
       "6                                0.69            ABC - Arbeit und Bildung   \n",
       "7                                0.49    A. Ö. Krankenhaus des DT. Ordens   \n",
       "8                                0.55                         Neue Heimat   \n",
       "9                                0.32  A.Ö. Krankenhaus der Elisabethinen   \n",
       "\n",
       "                                      Origional name  \n",
       "0  \"Unser Lagerhaus\" Warenhandels GmbH   Suedring...  \n",
       "1  A. Ö. KH DER BARMHERZIGEN BRÜDER   SPITALGASSE...  \n",
       "2  A.Zaussinger Bau- und   Obervisnitz 8   A-4224...  \n",
       "3  3 L Gastronomie GmbH   Hoheneggerstrasse 36   ...  \n",
       "4  A & R Mode-Handels GmbH   Amraser-See-Str. 56a...  \n",
       "5  A & R Mode-Handels GmbH   Amraser-See-Strasse ...  \n",
       "6  ABC - Arbeit u. Bildung   Neunkirchner Strasse...  \n",
       "7  A. Ö. KRANKENHAUS D. DT. ORDENS   ST. VEITER S...  \n",
       "8  \"Neue Heimat\" Gemeinnützige   Heizergasse 1   ...  \n",
       "9  A.Ö. KRANKENHAUS DER ELISABETHINEN   VÖLKERMAR...  "
      ]
     },
     "execution_count": 24,
     "metadata": {},
     "output_type": "execute_result"
    }
   ],
   "source": [
    "matches.head(10)"
   ]
  },
  {
   "cell_type": "code",
   "execution_count": null,
   "metadata": {},
   "outputs": [],
   "source": []
  }
 ],
 "metadata": {
  "kernelspec": {
   "display_name": "Python 3",
   "language": "python",
   "name": "python3"
  },
  "language_info": {
   "codemirror_mode": {
    "name": "ipython",
    "version": 3
   },
   "file_extension": ".py",
   "mimetype": "text/x-python",
   "name": "python",
   "nbconvert_exporter": "python",
   "pygments_lexer": "ipython3",
   "version": "3.7.6"
  }
 },
 "nbformat": 4,
 "nbformat_minor": 2
}
