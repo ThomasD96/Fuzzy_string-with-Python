{
 "cells": [
  {
   "cell_type": "code",
   "execution_count": null,
   "metadata": {},
   "outputs": [],
   "source": [
    "# https://nameparser.readthedocs.io/en/latest/usage.html\n",
    "# https://github.com/agitator/python-nameparser"
   ]
  },
  {
   "cell_type": "code",
   "execution_count": 1,
   "metadata": {},
   "outputs": [],
   "source": [
    "from nameparser import HumanName\n",
    "import pandas as pd"
   ]
  },
  {
   "cell_type": "code",
   "execution_count": 2,
   "metadata": {},
   "outputs": [
    {
     "data": {
      "text/html": [
       "<div>\n",
       "<style scoped>\n",
       "    .dataframe tbody tr th:only-of-type {\n",
       "        vertical-align: middle;\n",
       "    }\n",
       "\n",
       "    .dataframe tbody tr th {\n",
       "        vertical-align: top;\n",
       "    }\n",
       "\n",
       "    .dataframe thead th {\n",
       "        text-align: right;\n",
       "    }\n",
       "</style>\n",
       "<table border=\"1\" class=\"dataframe\">\n",
       "  <thead>\n",
       "    <tr style=\"text-align: right;\">\n",
       "      <th></th>\n",
       "      <th>Name</th>\n",
       "    </tr>\n",
       "  </thead>\n",
       "  <tbody>\n",
       "    <tr>\n",
       "      <td>0</td>\n",
       "      <td>George P. Pipis</td>\n",
       "    </tr>\n",
       "    <tr>\n",
       "      <td>1</td>\n",
       "      <td>George Pipis</td>\n",
       "    </tr>\n",
       "    <tr>\n",
       "      <td>2</td>\n",
       "      <td>Mr. George Prokopios Pipis</td>\n",
       "    </tr>\n",
       "    <tr>\n",
       "      <td>3</td>\n",
       "      <td>Dr. George Pipis Jr.</td>\n",
       "    </tr>\n",
       "    <tr>\n",
       "      <td>4</td>\n",
       "      <td>Pipis, George</td>\n",
       "    </tr>\n",
       "    <tr>\n",
       "      <td>5</td>\n",
       "      <td>Dr. Juan Q. Xavier de la Vega III (Doc Vega)</td>\n",
       "    </tr>\n",
       "  </tbody>\n",
       "</table>\n",
       "</div>"
      ],
      "text/plain": [
       "                                           Name\n",
       "0                               George P. Pipis\n",
       "1                                  George Pipis\n",
       "2                    Mr. George Prokopios Pipis\n",
       "3                          Dr. George Pipis Jr.\n",
       "4                                 Pipis, George\n",
       "5  Dr. Juan Q. Xavier de la Vega III (Doc Vega)"
      ]
     },
     "execution_count": 2,
     "metadata": {},
     "output_type": "execute_result"
    }
   ],
   "source": [
    "df = pd.DataFrame({'Name': [\"George P. Pipis\", \"George Pipis\", \"Mr. George Prokopios Pipis\", \"Dr. George Pipis Jr.\",\n",
    "                       \"Pipis, George\", \"Dr. Juan Q. Xavier de la Vega III (Doc Vega)\"]})\n",
    "df"
   ]
  },
  {
   "cell_type": "code",
   "execution_count": 4,
   "metadata": {},
   "outputs": [
    {
     "data": {
      "text/html": [
       "<div>\n",
       "<style scoped>\n",
       "    .dataframe tbody tr th:only-of-type {\n",
       "        vertical-align: middle;\n",
       "    }\n",
       "\n",
       "    .dataframe tbody tr th {\n",
       "        vertical-align: top;\n",
       "    }\n",
       "\n",
       "    .dataframe thead th {\n",
       "        text-align: right;\n",
       "    }\n",
       "</style>\n",
       "<table border=\"1\" class=\"dataframe\">\n",
       "  <thead>\n",
       "    <tr style=\"text-align: right;\">\n",
       "      <th></th>\n",
       "      <th>title</th>\n",
       "      <th>first</th>\n",
       "      <th>middle</th>\n",
       "      <th>last</th>\n",
       "      <th>suffix</th>\n",
       "      <th>nickname</th>\n",
       "    </tr>\n",
       "  </thead>\n",
       "  <tbody>\n",
       "    <tr>\n",
       "      <td>0</td>\n",
       "      <td></td>\n",
       "      <td>George</td>\n",
       "      <td>P.</td>\n",
       "      <td>Pipis</td>\n",
       "      <td></td>\n",
       "      <td></td>\n",
       "    </tr>\n",
       "    <tr>\n",
       "      <td>1</td>\n",
       "      <td></td>\n",
       "      <td>George</td>\n",
       "      <td></td>\n",
       "      <td>Pipis</td>\n",
       "      <td></td>\n",
       "      <td></td>\n",
       "    </tr>\n",
       "    <tr>\n",
       "      <td>2</td>\n",
       "      <td>Mr.</td>\n",
       "      <td>George</td>\n",
       "      <td>Prokopios</td>\n",
       "      <td>Pipis</td>\n",
       "      <td></td>\n",
       "      <td></td>\n",
       "    </tr>\n",
       "    <tr>\n",
       "      <td>3</td>\n",
       "      <td>Dr.</td>\n",
       "      <td>George</td>\n",
       "      <td></td>\n",
       "      <td>Pipis</td>\n",
       "      <td>Jr.</td>\n",
       "      <td></td>\n",
       "    </tr>\n",
       "    <tr>\n",
       "      <td>4</td>\n",
       "      <td></td>\n",
       "      <td>George</td>\n",
       "      <td></td>\n",
       "      <td>Pipis</td>\n",
       "      <td></td>\n",
       "      <td></td>\n",
       "    </tr>\n",
       "    <tr>\n",
       "      <td>5</td>\n",
       "      <td>Dr.</td>\n",
       "      <td>Juan</td>\n",
       "      <td>Q. Xavier</td>\n",
       "      <td>de la Vega</td>\n",
       "      <td>III</td>\n",
       "      <td>Doc Vega</td>\n",
       "    </tr>\n",
       "  </tbody>\n",
       "</table>\n",
       "</div>"
      ],
      "text/plain": [
       "  title   first     middle        last suffix  nickname\n",
       "0        George         P.       Pipis                 \n",
       "1        George                  Pipis                 \n",
       "2   Mr.  George  Prokopios       Pipis                 \n",
       "3   Dr.  George                  Pipis    Jr.          \n",
       "4        George                  Pipis                 \n",
       "5   Dr.    Juan  Q. Xavier  de la Vega    III  Doc Vega"
      ]
     },
     "execution_count": 4,
     "metadata": {},
     "output_type": "execute_result"
    }
   ],
   "source": [
    "df[\"title\"] = df[\"Name\"].apply(lambda x: HumanName(x).title)\n",
    "df[\"first\"] = df[\"Name\"].apply(lambda x: HumanName(x).first)\n",
    "df[\"middle\"] = df[\"Name\"].apply(lambda x: HumanName(x).middle)\n",
    "df[\"last\"] = df[\"Name\"].apply(lambda x: HumanName(x).last)\n",
    "df[\"suffix\"] = df[\"Name\"].apply(lambda x: HumanName(x).suffix)\n",
    "df[\"nickname\"] = df[\"Name\"].apply(lambda x: HumanName(x).nickname)\n",
    "df.drop('Name', axis=1)"
   ]
  }
 ],
 "metadata": {
  "kernelspec": {
   "display_name": "Python 3",
   "language": "python",
   "name": "python3"
  },
  "language_info": {
   "codemirror_mode": {
    "name": "ipython",
    "version": 3
   },
   "file_extension": ".py",
   "mimetype": "text/x-python",
   "name": "python",
   "nbconvert_exporter": "python",
   "pygments_lexer": "ipython3",
   "version": "3.7.4"
  }
 },
 "nbformat": 4,
 "nbformat_minor": 2
}
